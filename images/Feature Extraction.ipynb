{
 "cells": [
  {
   "cell_type": "code",
   "execution_count": 1,
   "metadata": {},
   "outputs": [
    {
     "name": "stderr",
     "output_type": "stream",
     "text": [
      "/Users/noel/anaconda/lib/python3.6/site-packages/skimage/viewer/utils/core.py:10: UserWarning: Recommended matplotlib backend is `Agg` for full skimage.viewer functionality.\n",
      "  warn(\"Recommended matplotlib backend is `Agg` for full \"\n"
     ]
    }
   ],
   "source": [
    "from skimage import data as sd\n",
    "import skimage.color as sc\n",
    "from skimage.viewer import ImageViewer\n",
    "import pandas as pd\n",
    "import matplotlib.pyplot as plt\n",
    "import numpy as np\n",
    "%matplotlib inline  \n",
    "\n",
    "pd.set_option('precision',10)\n",
    "\n",
    "path = './Both/305776.jpg'"
   ]
  },
  {
   "cell_type": "code",
   "execution_count": 48,
   "metadata": {},
   "outputs": [
    {
     "data": {
      "text/plain": [
       "(600, 370)"
      ]
     },
     "execution_count": 48,
     "metadata": {},
     "output_type": "execute_result"
    }
   ],
   "source": [
    "'''\n",
    "opens image, converts to HSV, returns HSV array, height, width, total number of pixels\n",
    "'''\n",
    "\n",
    "def pre_process(path):\n",
    "    img = sd.imread(path)\n",
    "    img_hsv = sc.convert_colorspace(img, 'RGB', 'HSV')\n",
    "    h = img_hsv.shape[0]\n",
    "    w = img_hsv.shape[1]\n",
    "    px = h * w\n",
    "    \n",
    "    return img_hsv, h, w, px\n",
    "\n",
    "img_hsv, h, w, px = pre_process(path)"
   ]
  },
  {
   "cell_type": "code",
   "execution_count": 3,
   "metadata": {},
   "outputs": [],
   "source": [
    "'''\n",
    "support function for features 1-3\n",
    "'''\n",
    "\n",
    "def make_dataframe(img_hsv):\n",
    "    height = len(img_hsv)\n",
    "    width = len(img_hsv[0])\n",
    "    pixels = height * width\n",
    "    hue = []\n",
    "    saturation = []\n",
    "    value = []\n",
    "    \n",
    "    for i in range(height):\n",
    "        for j in range(width):\n",
    "            hue.append(img_hsv[i][j][0])\n",
    "            saturation.append(img_hsv[i][j][1])\n",
    "            value.append(img_hsv[i][j][2])\n",
    "            \n",
    "    data = {'H': hue, 'S': saturation, 'V': value}\n",
    "    hsv_df = pd.DataFrame(data=data)\n",
    "    \n",
    "    hue = np.array(hue)\n",
    "    saturation = np.array(saturation)\n",
    "    value = np.array(value)\n",
    "    hue.shape = (h,w)\n",
    "    saturation.shape = (h,w)\n",
    "    value.shape = (h,w)\n",
    "    \n",
    "    return hsv_df, hue, saturation, value\n",
    "\n",
    "hsv_df, hue, sat, val = make_dataframe(img_hsv)"
   ]
  },
  {
   "cell_type": "code",
   "execution_count": 4,
   "metadata": {
    "collapsed": true
   },
   "outputs": [],
   "source": [
    "'''\n",
    "the first two features: average hue, average saturation\n",
    "'''\n",
    "\n",
    "def f1_2(hsv_df):\n",
    "    return hsv_df.mean()['H'], hsv_df.mean()['S']\n",
    "\n",
    "f1, f2 = f1_2(hsv_df)"
   ]
  },
  {
   "cell_type": "code",
   "execution_count": 5,
   "metadata": {},
   "outputs": [],
   "source": [
    "'''\n",
    "support function for features 3 to 23, k is number of bins\n",
    "'''\n",
    "def make_bins(hsv_df, k):\n",
    "    bins = [0]\n",
    "    increment = 1/k\n",
    "    for i in range(k):\n",
    "        temp = bins[i] + increment\n",
    "        bins.append(temp)\n",
    "    hue_bins = pd.cut(hsv_df['H'], bins=bins, include_lowest=True).value_counts()\n",
    "    return hue_bins\n",
    "\n",
    "hue_bins = make_bins(hsv_df, 20)"
   ]
  },
  {
   "cell_type": "code",
   "execution_count": 6,
   "metadata": {},
   "outputs": [],
   "source": [
    "'''\n",
    "count the num of hue bins that are most prominent, c is a multiplicatory component\n",
    "'''\n",
    "def f3(hue_bins, c):\n",
    "    \n",
    "    max_bins = max(hue_bins.tolist())\n",
    "    count = 0\n",
    "    \n",
    "    for i in range(len(hue_bins)):\n",
    "        if hue_bins[i] > c * max_bins:\n",
    "            count +=1\n",
    "            \n",
    "    return count\n",
    "\n",
    "f3 = f3(hue_bins, 0.1)"
   ]
  },
  {
   "cell_type": "code",
   "execution_count": 85,
   "metadata": {},
   "outputs": [
    {
     "name": "stdout",
     "output_type": "stream",
     "text": [
      "[734.07692307692309, 840.5846153846154, 242.95384615384614, 72.276923076923083, 13.846153846153847, 9.0769230769230766, 6.7538461538461538, 35.261538461538464, 80.292307692307688, 97.41538461538461, 359.6307692307692, 526.56923076923078, 110.76923076923077, 57.184615384615384, 12.215384615384615, 11.4, 9.6307692307692303, 17.323076923076922, 34.753846153846155, 143.36923076923077]\n"
     ]
    }
   ],
   "source": [
    "'''\n",
    "features 4 to 23, the dispersion of each hue component, returns as list\n",
    "'''\n",
    "\n",
    "def f4_23(hue_bins, px):\n",
    "    hue_bins = hue_bins.sort_index().tolist()\n",
    "    color_dispersion = []\n",
    "    for i in range(len(hue_bins)):\n",
    "        color_dispersion.append(hue_bins[i]/px)\n",
    "          \n",
    "    return color_dispersion\n",
    "\n",
    "f4_23 = f4_23(hue_bins, px)\n",
    "\n",
    "print(f4_23)"
   ]
  },
  {
   "cell_type": "code",
   "execution_count": 8,
   "metadata": {},
   "outputs": [],
   "source": [
    "from scipy import ndimage as ndi\n",
    "import matplotlib.pyplot as plt\n",
    "\n",
    "from skimage.morphology import watershed, disk\n",
    "from skimage import data\n",
    "from skimage.filters import rank\n",
    "from skimage.util import img_as_ubyte\n",
    "\n",
    "'''\n",
    "performs water segmentation on images, which will be used for features\n",
    "'''\n",
    "\n",
    "def water_segmentation(path,hue,d1,d2,v,d3):\n",
    "\n",
    "    image = img_as_ubyte(hue)\n",
    "    image_original = sd.imread(path)\n",
    "    image_gray = img_as_ubyte(sd.imread(path, as_grey=True))\n",
    "\n",
    "    # denoise image\n",
    "    denoised = rank.median(image, disk(d1))\n",
    "    denoised_gray = rank.median(image_gray)\n",
    "\n",
    "    # find continuous region (low gradient - where less than 10 for this image) --> markers\n",
    "    # disk(5) is used here to get a more smooth image\n",
    "    markers = rank.gradient(denoised, disk(d2)) < v\n",
    "    markers = ndi.label(markers)[0]\n",
    "\n",
    "    # local gradient (disk(2) is used to keep edges thin)\n",
    "    gradient = rank.gradient(denoised, disk(d3))\n",
    "\n",
    "    # process the watershed\n",
    "    labels = watershed(gradient, markers)\n",
    "    \n",
    "    return image, image_original, denoised, markers, gradient, labels\n",
    "\n"
   ]
  },
  {
   "cell_type": "code",
   "execution_count": 9,
   "metadata": {},
   "outputs": [
    {
     "name": "stderr",
     "output_type": "stream",
     "text": [
      "/Users/noel/anaconda/lib/python3.6/site-packages/skimage/util/dtype.py:122: UserWarning: Possible precision loss when converting from float64 to uint8\n",
      "  .format(dtypeobj_in, dtypeobj_out))\n"
     ]
    }
   ],
   "source": [
    "'''\n",
    "displayes the segmentation process\n",
    "'''\n",
    "\n",
    "def display_water_segmentation(image, image_original, denoised, markers, gradient, labels):\n",
    "\n",
    "    # display results\n",
    "    fig, axes = plt.subplots(nrows=2, ncols=2, figsize=(8, 8), sharex=True, sharey=True, subplot_kw={'adjustable':'box-forced'})\n",
    "    ax = axes.ravel()\n",
    "\n",
    "    ax[0].imshow(image_original, cmap=plt.cm.gray, interpolation='nearest')\n",
    "    ax[0].set_title(\"Original\")\n",
    "\n",
    "    ax[1].imshow(gradient, cmap=plt.cm.spectral, interpolation='nearest')\n",
    "    ax[1].set_title(\"Local Gradient\")\n",
    "\n",
    "    ax[2].imshow(markers, cmap=plt.cm.spectral, interpolation='nearest')\n",
    "    ax[2].set_title(\"Markers\")\n",
    "\n",
    "    ax[3].imshow(image_original, cmap=plt.cm.gray, interpolation='nearest')\n",
    "    ax[3].imshow(labels, cmap=plt.cm.spectral, interpolation='nearest', alpha=.7)\n",
    "    ax[3].set_title(\"Segmented\")\n",
    "\n",
    "    for a in ax:\n",
    "        a.axis('off')\n",
    "\n",
    "    fig.tight_layout()\n",
    "    plt.show()\n",
    "    \n",
    "image, image_original, denoised, markers, gradient, labels = water_segmentation(path, hue, 3, 5, 10, 2) #original configuration for water shedding\n",
    "# display_water_segmentation(image, image_original, denoised, markers, gradient, labels)"
   ]
  },
  {
   "cell_type": "code",
   "execution_count": 90,
   "metadata": {
    "scrolled": false
   },
   "outputs": [
    {
     "name": "stdout",
     "output_type": "stream",
     "text": [
      "([0.13386837915273095, 0.34731808731808733, 0.7707895897229069], [0.19334746261627223, 0.0044615384615384612, 0.17914969075077436], [0.042863197817754696, 0.1597326179505909, 0.6214339797090489], [0.0055544035282443036, 0.030184683109294463, 0.4907382618055075])\n"
     ]
    }
   ],
   "source": [
    "'''\n",
    "support function to count the largest segments\n",
    "'''\n",
    "\n",
    "def make_segment_df(labels):\n",
    "    labels_df = pd.DataFrame(data=labels)\n",
    "    unique, counts = np.unique(labels, return_counts=True)\n",
    "\n",
    "    data = {'seg': unique, 'px': counts}\n",
    "    segment_df = pd.DataFrame(data=data)\n",
    "    segment_df = segment_df.sort_values(by = 'px', ascending = False)\n",
    "    \n",
    "    return segment_df\n",
    "\n",
    "segment_df = make_segment_df(labels)\n",
    "\n",
    "def filter_labels(labels, n):\n",
    "    arr = np.copy(labels)\n",
    "    boole = arr[arr > n] = 0\n",
    "    boole = arr[arr < n] = 0\n",
    "    boole = arr[arr == n] = 1\n",
    "    \n",
    "    return arr\n",
    "\n",
    "from scipy import ndimage as nd\n",
    "\n",
    "def center_of_mass(arr, h, w):\n",
    "    coordinates = nd.measurements.center_of_mass(array)\n",
    "    area = np.count_nonzero(arr)\n",
    "    \n",
    "    x_center = coordinates[0] / w\n",
    "    y_center = coordinates[1] / h\n",
    "    \n",
    "    x = []\n",
    "    y = []\n",
    "    \n",
    "    for i in range(h):\n",
    "        for j in range(w):\n",
    "            if arr[i][j] == 1:\n",
    "                x.append(j)\n",
    "                y.append(i)\n",
    "                \n",
    "    x = np.array(x)/w\n",
    "    y = np.array(y)/h\n",
    "    \n",
    "    v1 = x.sum()/area ## in the original numbering this is f23-f25\n",
    "    v2 = y.sum()/area ## f26-f28\n",
    "    \n",
    "    v3 = ( ((x - x_center) ** 2).sum() + ((y - y_center) ** 2).sum() ) / area ## f29-f31\n",
    "    v4 = ( ((x - x_center) ** 3).sum() + ((y - y_center) ** 3).sum() ) / area ## f32-f34\n",
    "\n",
    "    \n",
    "    return v1, v2, v3, v4\n",
    "\n",
    "\n",
    "'''\n",
    "extract features 23 to 34\n",
    "'''\n",
    "\n",
    "def f24_35(df, lab, height, width):\n",
    "    f24_f26 = []\n",
    "    f27_f29 = []\n",
    "    f30_f32 = []\n",
    "    f33_f35 = []\n",
    "    \n",
    "    for i in range(3):\n",
    "        seg_num = segment_df['seg'][i]\n",
    "        \n",
    "        array = filter_labels(lab, seg_num)\n",
    "        v1, v2, v3, v4 = center_of_mass(array, height, width)\n",
    "        \n",
    "        f24_f26.append(v1)\n",
    "        f27_f29.append(v2)\n",
    "        f30_f32.append(v3)\n",
    "        f33_f35.append(v4)\n",
    "        \n",
    "    return f24_f26, f27_f29, f30_f32, f33_f35\n",
    "\n",
    "f24_35 = f24_35(segment_df, labels, h, w)\n",
    "\n",
    "print(f24_35)"
   ]
  },
  {
   "cell_type": "code",
   "execution_count": 71,
   "metadata": {},
   "outputs": [],
   "source": [
    "'''\n",
    "extracts features 36-50, returns them in a list format\n",
    "'''\n",
    "\n",
    "def f36_50(df, lab, hue, sat, val):\n",
    "    f36_40 = []\n",
    "    f41_45 = []\n",
    "    f46_50 = []\n",
    "    \n",
    "    for i in range(5):\n",
    "        seg_num = segment_df['seg'][i]\n",
    "        \n",
    "        array = filter_labels(lab, seg_num)\n",
    "        area = np.count_nonzero(array)\n",
    "        \n",
    "        hue_filtered = []\n",
    "        sat_filtered = []\n",
    "        val_filtered = []\n",
    "        \n",
    "        for i in range(h):\n",
    "            for j in range(w):\n",
    "                hue_filtered.append(hue[i][j] * array[i][j])\n",
    "                sat_filtered.append(sat[i][j] * array[i][j])\n",
    "                val_filtered.append(val[i][j] * array[i][j])\n",
    "                \n",
    "        f36_40.append(np.array(hue_filtered).sum() / area)\n",
    "        f41_45.append(np.array(sat_filtered).sum() / area)\n",
    "        f46_50.append(np.array(val_filtered).sum() / area)\n",
    "        \n",
    "    return f36_40, f41_45, f46_50\n",
    "\n",
    "f36_50 = f36_50(segment_df, labels, hue, sat, val)"
   ]
  },
  {
   "cell_type": "code",
   "execution_count": 89,
   "metadata": {},
   "outputs": [
    {
     "ename": "IndexError",
     "evalue": "tuple index out of range",
     "output_type": "error",
     "traceback": [
      "\u001b[0;31m---------------------------------------------------------------------------\u001b[0m",
      "\u001b[0;31mIndexError\u001b[0m                                Traceback (most recent call last)",
      "\u001b[0;32m<ipython-input-89-e1e345b6ca17>\u001b[0m in \u001b[0;36m<module>\u001b[0;34m()\u001b[0m\n\u001b[1;32m     22\u001b[0m     \u001b[0;32mreturn\u001b[0m \u001b[0mout\u001b[0m\u001b[0;34m\u001b[0m\u001b[0m\n\u001b[1;32m     23\u001b[0m \u001b[0;34m\u001b[0m\u001b[0m\n\u001b[0;32m---> 24\u001b[0;31m \u001b[0mmake_out_df\u001b[0m\u001b[0;34m(\u001b[0m\u001b[0mf1\u001b[0m\u001b[0;34m,\u001b[0m \u001b[0mf2\u001b[0m\u001b[0;34m,\u001b[0m \u001b[0mf3\u001b[0m\u001b[0;34m,\u001b[0m \u001b[0mf4_23\u001b[0m\u001b[0;34m,\u001b[0m \u001b[0mf24_35\u001b[0m\u001b[0;34m,\u001b[0m \u001b[0mf36_50\u001b[0m\u001b[0;34m)\u001b[0m\u001b[0;34m\u001b[0m\u001b[0m\n\u001b[0m",
      "\u001b[0;32m<ipython-input-89-e1e345b6ca17>\u001b[0m in \u001b[0;36mmake_out_df\u001b[0;34m(f1, f2, f3, f4_23, f24_35, f36_50)\u001b[0m\n\u001b[1;32m      9\u001b[0m             \u001b[0;34m'f22'\u001b[0m\u001b[0;34m:\u001b[0m \u001b[0mf4_23\u001b[0m\u001b[0;34m[\u001b[0m\u001b[0;36m18\u001b[0m\u001b[0;34m]\u001b[0m\u001b[0;34m,\u001b[0m\u001b[0;34m'f23'\u001b[0m\u001b[0;34m:\u001b[0m \u001b[0mf4_23\u001b[0m\u001b[0;34m[\u001b[0m\u001b[0;36m19\u001b[0m\u001b[0;34m]\u001b[0m\u001b[0;34m,\u001b[0m \u001b[0;34m'f24'\u001b[0m\u001b[0;34m:\u001b[0m \u001b[0mf24_35\u001b[0m\u001b[0;34m[\u001b[0m\u001b[0;36m0\u001b[0m\u001b[0;34m]\u001b[0m\u001b[0;34m,\u001b[0m\u001b[0;34m\u001b[0m\u001b[0m\n\u001b[1;32m     10\u001b[0m             \u001b[0;34m'f25'\u001b[0m\u001b[0;34m:\u001b[0m \u001b[0mf24_35\u001b[0m\u001b[0;34m[\u001b[0m\u001b[0;36m1\u001b[0m\u001b[0;34m]\u001b[0m\u001b[0;34m,\u001b[0m\u001b[0;34m'f26'\u001b[0m\u001b[0;34m:\u001b[0m \u001b[0mf24_35\u001b[0m\u001b[0;34m[\u001b[0m\u001b[0;36m2\u001b[0m\u001b[0;34m]\u001b[0m\u001b[0;34m,\u001b[0m\u001b[0;34m'f27'\u001b[0m\u001b[0;34m:\u001b[0m \u001b[0mf24_35\u001b[0m\u001b[0;34m[\u001b[0m\u001b[0;36m3\u001b[0m\u001b[0;34m]\u001b[0m\u001b[0;34m,\u001b[0m\u001b[0;34m\u001b[0m\u001b[0m\n\u001b[0;32m---> 11\u001b[0;31m             \u001b[0;34m'f28'\u001b[0m\u001b[0;34m:\u001b[0m \u001b[0mf24_35\u001b[0m\u001b[0;34m[\u001b[0m\u001b[0;36m4\u001b[0m\u001b[0;34m]\u001b[0m\u001b[0;34m,\u001b[0m\u001b[0;34m'f29'\u001b[0m\u001b[0;34m:\u001b[0m \u001b[0mf24_35\u001b[0m\u001b[0;34m[\u001b[0m\u001b[0;36m5\u001b[0m\u001b[0;34m]\u001b[0m\u001b[0;34m,\u001b[0m\u001b[0;34m'f30'\u001b[0m\u001b[0;34m:\u001b[0m \u001b[0mf24_35\u001b[0m\u001b[0;34m[\u001b[0m\u001b[0;36m6\u001b[0m\u001b[0;34m]\u001b[0m\u001b[0;34m,\u001b[0m\u001b[0;34m\u001b[0m\u001b[0m\n\u001b[0m\u001b[1;32m     12\u001b[0m             \u001b[0;34m'f31'\u001b[0m\u001b[0;34m:\u001b[0m \u001b[0mf24_35\u001b[0m\u001b[0;34m[\u001b[0m\u001b[0;36m7\u001b[0m\u001b[0;34m]\u001b[0m\u001b[0;34m,\u001b[0m\u001b[0;34m'f32'\u001b[0m\u001b[0;34m:\u001b[0m \u001b[0mf24_35\u001b[0m\u001b[0;34m[\u001b[0m\u001b[0;36m8\u001b[0m\u001b[0;34m]\u001b[0m\u001b[0;34m,\u001b[0m\u001b[0;34m'f33'\u001b[0m\u001b[0;34m:\u001b[0m \u001b[0mf24_35\u001b[0m\u001b[0;34m[\u001b[0m\u001b[0;36m9\u001b[0m\u001b[0;34m]\u001b[0m\u001b[0;34m,\u001b[0m\u001b[0;34m\u001b[0m\u001b[0m\n\u001b[1;32m     13\u001b[0m             \u001b[0;34m'f34'\u001b[0m\u001b[0;34m:\u001b[0m \u001b[0mf24_35\u001b[0m\u001b[0;34m[\u001b[0m\u001b[0;36m10\u001b[0m\u001b[0;34m]\u001b[0m\u001b[0;34m,\u001b[0m\u001b[0;34m'f35'\u001b[0m\u001b[0;34m:\u001b[0m \u001b[0mf24_35\u001b[0m\u001b[0;34m[\u001b[0m\u001b[0;36m11\u001b[0m\u001b[0;34m]\u001b[0m\u001b[0;34m,\u001b[0m\u001b[0;34m'f36'\u001b[0m\u001b[0;34m:\u001b[0m \u001b[0mf36_50\u001b[0m\u001b[0;34m[\u001b[0m\u001b[0;36m0\u001b[0m\u001b[0;34m]\u001b[0m\u001b[0;34m,\u001b[0m\u001b[0;34m\u001b[0m\u001b[0m\n",
      "\u001b[0;31mIndexError\u001b[0m: tuple index out of range"
     ]
    }
   ],
   "source": [
    "def make_out_df(f1, f2, f3, f4_23, f24_35, f36_50):\n",
    "    data = {'f1': f1,'f2': f2,'f3': f3,\n",
    "            'f4': f4_23[0],'f5': f4_23[1],'f6': f4_23[2],\n",
    "            'f7': f4_23[3],'f8': f4_23[4],'f9': f4_23[5],\n",
    "            'f10': f4_23[6],'f11': f4_23[7],'f12': f4_23[8],\n",
    "            'f13': f4_23[9],'f14': f4_23[10],'f15': f4_23[11],\n",
    "            'f16': f4_23[12],'f17': f4_23[13],'f18': f4_23[14],\n",
    "            'f19': f4_23[15],'f20': f4_23[16],'f21': f4_23[17],\n",
    "            'f22': f4_23[18],'f23': f4_23[19], \n",
    "            'f24': f24_35[0][0],\n",
    "            'f25': f24_35[1],'f26': f24_35[2],'f27': f24_35[3],\n",
    "            'f28': f24_35[4],'f29': f24_35[5],'f30': f24_35[6],\n",
    "            'f31': f24_35[7],'f32': f24_35[8],'f33': f24_35[9],\n",
    "            'f34': f24_35[10],'f35': f24_35[11],'f36': f36_50[0],\n",
    "            'f37': f37_50[1],'f38': f36_50[2],'f39': f37_50[3],\n",
    "            'f40': f36_50[4],'f41': f37_50[5],'f42': f36_50[6],\n",
    "            'f43': f37_50[7],'f44': f36_50[8],'f45': f37_50[9],\n",
    "            'f46': f36_50[10],'f47': f37_50[11],'f48': f36_50[12],\n",
    "            'f49': f37_50[13],'f50': f37_50[14]}\n",
    "    \n",
    "    out = pd.DataFrame(data=data)\n",
    "    \n",
    "    return out\n",
    "\n",
    "make_out_df(f1, f2, f3, f4_23, f24_35, f36_50)"
   ]
  },
  {
   "cell_type": "code",
   "execution_count": 11,
   "metadata": {},
   "outputs": [],
   "source": [
    "def show_gradient(gradient):\n",
    "\n",
    "    fig, axes = plt.subplots(nrows=1, ncols=1, figsize=(20, 20), sharex=True, sharey=True, subplot_kw={'adjustable':'box-forced'})\n",
    "    plt.imshow(gradient, cmap=plt.cm.spectral, interpolation='nearest')\n",
    "    plt.axis('off')\n",
    "\n",
    "    fig.tight_layout()\n",
    "    plt.show()"
   ]
  },
  {
   "cell_type": "code",
   "execution_count": null,
   "metadata": {
    "collapsed": true
   },
   "outputs": [],
   "source": []
  },
  {
   "cell_type": "code",
   "execution_count": 12,
   "metadata": {},
   "outputs": [
    {
     "name": "stdout",
     "output_type": "stream",
     "text": [
      "[[198 211 198 ..., 173 183 182]\n",
      " [206 219 208 ..., 193 185 184]\n",
      " [192 206 196 ..., 199 175 174]\n",
      " ..., \n",
      " [100 145 116 ..., 149 144 130]\n",
      " [ 95 117  90 ..., 127 142 139]\n",
      " [122 100  56 ..., 115 137 134]]\n",
      "(600, 370)\n",
      "[[141 142 142 ..., 131 135 135]\n",
      " [141 142 142 ..., 131 135 135]\n",
      " [142 142 142 ..., 131 134 134]\n",
      " ..., \n",
      " [ 14  14  13 ...,  17  18  18]\n",
      " [ 14  14  13 ...,  18  18  18]\n",
      " [ 14  13  12 ...,  18  19  19]]\n"
     ]
    },
    {
     "name": "stderr",
     "output_type": "stream",
     "text": [
      "/Users/noel/anaconda/lib/python3.6/site-packages/skimage/util/dtype.py:122: UserWarning: Possible precision loss when converting from float64 to uint8\n",
      "  .format(dtypeobj_in, dtypeobj_out))\n"
     ]
    }
   ],
   "source": [
    "nd.measurements.center_of_mass(img_hsv)\n",
    "\n",
    "image = img_as_ubyte(sd.imread(path, as_grey=True))\n",
    "print(image)\n",
    "print(hue.shape)\n",
    "image_2 = img_as_ubyte(hue)\n",
    "print(image_2)"
   ]
  }
 ],
 "metadata": {
  "kernelspec": {
   "display_name": "Python 3",
   "language": "python",
   "name": "python3"
  },
  "language_info": {
   "codemirror_mode": {
    "name": "ipython",
    "version": 3
   },
   "file_extension": ".py",
   "mimetype": "text/x-python",
   "name": "python",
   "nbconvert_exporter": "python",
   "pygments_lexer": "ipython3",
   "version": "3.6.1"
  }
 },
 "nbformat": 4,
 "nbformat_minor": 1
}
