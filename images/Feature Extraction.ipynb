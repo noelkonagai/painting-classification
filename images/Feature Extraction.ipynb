{
 "cells": [
  {
   "cell_type": "code",
   "execution_count": 45,
   "metadata": {
    "collapsed": false
   },
   "outputs": [
    {
     "data": {
      "text/plain": [
       "(600, 562, 3)"
      ]
     },
     "execution_count": 45,
     "metadata": {},
     "output_type": "execute_result"
    }
   ],
   "source": [
    "from skimage import data as sd\n",
    "import skimage.color as sc\n",
    "from skimage.viewer import ImageViewer\n",
    "import pandas as pd\n",
    "import matplotlib.pyplot as plt\n",
    "import numpy as np\n",
    "%matplotlib inline  \n",
    "\n",
    "pd.set_option('precision',10)\n",
    "\n",
    "img = sd.imread('244694.jpg')\n",
    "img_hsv = sc.convert_colorspace(img, 'RGB', 'HSV')\n",
    "\n",
    "viewer = ImageViewer(img_hsv)\n",
    "\n",
    "img_hsv.shape #(600, 467, 3) height, width, 3 vals for HSV"
   ]
  },
  {
   "cell_type": "code",
   "execution_count": 46,
   "metadata": {
    "collapsed": false
   },
   "outputs": [
    {
     "data": {
      "text/plain": [
       "(0.180081645462629, 0.20095170619439814, 0.61403065615350072)"
      ]
     },
     "execution_count": 46,
     "metadata": {},
     "output_type": "execute_result"
    }
   ],
   "source": [
    "def average_hsv(img_hsv):\n",
    "\n",
    "    height = len(img_hsv)\n",
    "    width = len(img_hsv[0])\n",
    "    pixels = height * width\n",
    "    sum_hue = 0\n",
    "    sum_saturation = 0\n",
    "    sum_value = 0\n",
    "\n",
    "    for i in range(height):\n",
    "        for j in range(width):\n",
    "            sum_hue += img_hsv[i][j][0]\n",
    "            sum_saturation += img_hsv[i][j][1]\n",
    "            sum_value += img_hsv[i][j][2]\n",
    "\n",
    "    avg_hue = sum_hue / pixels\n",
    "    avg_saturation = sum_saturation / pixels\n",
    "    avg_value = sum_value / pixels\n",
    "\n",
    "    return avg_hue, avg_saturation, avg_value\n",
    "        \n",
    "        \n",
    "avg_hue, avg_saturation, avg_value = average_hsv(img_hsv)\n",
    "avg_hue, avg_saturation, avg_value"
   ]
  },
  {
   "cell_type": "code",
   "execution_count": 47,
   "metadata": {
    "collapsed": false
   },
   "outputs": [
    {
     "data": {
      "text/plain": [
       "H    0.1800816455\n",
       "S    0.2009517062\n",
       "V    0.6140306562\n",
       "dtype: float64"
      ]
     },
     "execution_count": 47,
     "metadata": {},
     "output_type": "execute_result"
    }
   ],
   "source": [
    "def hsv_df(img_hsv):\n",
    "    height = len(img_hsv)\n",
    "    width = len(img_hsv[0])\n",
    "    pixels = height * width\n",
    "    hue = []\n",
    "    saturation = []\n",
    "    value = []\n",
    "    \n",
    "    for i in range(height):\n",
    "        for j in range(width):\n",
    "            hue.append(img_hsv[i][j][0])\n",
    "            saturation.append(img_hsv[i][j][1])\n",
    "            value.append(img_hsv[i][j][2])\n",
    "            \n",
    "    data = {'H': hue, 'S': saturation, 'V': value}\n",
    "    hsv_df = pd.DataFrame(data=data)\n",
    "    \n",
    "    return hsv_df\n",
    "\n",
    "df = hsv_df(img_hsv)\n",
    "\n",
    "df.mean()\n"
   ]
  },
  {
   "cell_type": "code",
   "execution_count": 48,
   "metadata": {
    "collapsed": false
   },
   "outputs": [
    {
     "data": {
      "text/plain": [
       "H    0.0913003521\n",
       "S    0.1607581931\n",
       "V    0.1673831123\n",
       "dtype: float64"
      ]
     },
     "execution_count": 48,
     "metadata": {},
     "output_type": "execute_result"
    }
   ],
   "source": [
    "df.std()"
   ]
  },
  {
   "cell_type": "code",
   "execution_count": 49,
   "metadata": {
    "collapsed": false
   },
   "outputs": [
    {
     "data": {
      "text/plain": [
       "<matplotlib.text.Text at 0x116b685c0>"
      ]
     },
     "execution_count": 49,
     "metadata": {},
     "output_type": "execute_result"
    },
    {
     "data": {
      "image/png": "[encoded data removed]",
      "text/plain": [
       "<matplotlib.figure.Figure at 0x116b3bda0>"
      ]
     },
     "metadata": {},
     "output_type": "display_data"
    }
   ],
   "source": [
    "##rgb historgram\n",
    "\n",
    "fig, ax = plt.subplots()\n",
    "\n",
    "values, bins = np.histogram(img, bins=np.arange(256))\n",
    "ax.plot(bins[:-1], values, lw=2, c='k')\n",
    "ax.set_xlim(xmax=256)\n",
    "ax.set_title('Histogram', fontsize=24)"
   ]
  },
  {
   "cell_type": "code",
   "execution_count": 56,
   "metadata": {
    "collapsed": false
   },
   "outputs": [
    {
     "data": {
      "text/plain": [
       "(0.15, 0.2]    151480\n",
       "(0.1, 0.15]    117969\n",
       "(0.2, 0.25]     21672\n",
       "(0.05, 0.1]     10675\n",
       "(0.25, 0.3]     10058\n",
       "(0.3, 0.35]      8404\n",
       "(0.35, 0.4]      3528\n",
       "(0.45, 0.5]      2822\n",
       "(0.55, 0.6]      2815\n",
       "(0.6, 0.65]      2453\n",
       "(0.4, 0.45]      1576\n",
       "(0.5, 0.55]      1373\n",
       "(0.0, 0.05]       583\n",
       "(0.65, 0.7]       338\n",
       "(0.9, 0.95]       263\n",
       "(0.95, 1.0]       194\n",
       "(0.7, 0.75]       114\n",
       "(0.85, 0.9]        92\n",
       "(0.75, 0.8]        88\n",
       "(0.8, 0.85]        79\n",
       "Name: H, dtype: int64"
      ]
     },
     "execution_count": 56,
     "metadata": {},
     "output_type": "execute_result"
    }
   ],
   "source": [
    "# for 20 bins, find the count of pixels that fall there, probably this should be divided by total pixels such that we have percentages\n",
    "\n",
    "bins = [0,0.05,0.10,0.15,0.20,0.25,0.30,0.35,0.40,0.45,0.50,0.55,0.60,0.65,0.70,0.75,0.80,0.85,0.90,0.95,1.00]\n",
    "\n",
    "pd.cut(df['H'], bins=bins).value_counts()"
   ]
  },
  {
   "cell_type": "code",
   "execution_count": null,
   "metadata": {
    "collapsed": true
   },
   "outputs": [],
   "source": []
  }
 ],
 "metadata": {
  "kernelspec": {
   "display_name": "Python 3",
   "language": "python",
   "name": "python3"
  },
  "language_info": {
   "codemirror_mode": {
    "name": "ipython",
    "version": 3
   },
   "file_extension": ".py",
   "mimetype": "text/x-python",
   "name": "python",
   "nbconvert_exporter": "python",
   "pygments_lexer": "ipython3",
   "version": "3.4.4"
  }
 },
 "nbformat": 4,
 "nbformat_minor": 0
}
